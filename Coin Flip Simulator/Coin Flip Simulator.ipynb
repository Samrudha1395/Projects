{
 "cells": [
  {
   "cell_type": "code",
   "execution_count": 2,
   "metadata": {
    "collapsed": true
   },
   "outputs": [],
   "source": [
    "import random as r"
   ]
  },
  {
   "cell_type": "code",
   "execution_count": 3,
   "metadata": {},
   "outputs": [
    {
     "name": "stdout",
     "output_type": "stream",
     "text": [
      "Enter the number of times you want to toss the coin: 10\n",
      "Outcome of the tosses: ['H', 'T', 'T', 'T', 'H', 'T', 'H', 'H', 'T', 'T']\n",
      "Number of heads: 4 \n",
      "Number of tails: 6 \n"
     ]
    }
   ],
   "source": [
    "x=int(input('Enter the number of times you want to toss the coin: '))\n",
    "n=0\n",
    "lst=[]\n",
    "while n<x:\n",
    "    y=r.randint(1,2)\n",
    "    n+=1\n",
    "    if y==1:\n",
    "        y='H'\n",
    "    else:\n",
    "        y='T'\n",
    "    lst.append(y)\n",
    "print(f'Outcome of the tosses: {lst}')\n",
    "print(f'Number of heads: {lst.count(\"H\")} ')\n",
    "print(f'Number of tails: {lst.count(\"T\")} ')\n"
   ]
  }
 ],
 "metadata": {
  "kernelspec": {
   "display_name": "Python 3",
   "language": "python",
   "name": "python3"
  },
  "language_info": {
   "codemirror_mode": {
    "name": "ipython",
    "version": 3
   },
   "file_extension": ".py",
   "mimetype": "text/x-python",
   "name": "python",
   "nbconvert_exporter": "python",
   "pygments_lexer": "ipython3",
   "version": "3.6.1"
  }
 },
 "nbformat": 4,
 "nbformat_minor": 2
}
