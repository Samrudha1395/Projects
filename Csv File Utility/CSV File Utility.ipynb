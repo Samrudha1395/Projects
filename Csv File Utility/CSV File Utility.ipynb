{
 "cells": [
  {
   "cell_type": "code",
   "execution_count": 2,
   "metadata": {
    "collapsed": true
   },
   "outputs": [],
   "source": [
    "import pandas as pd\n",
    "import csv\n",
    "import numpy as np"
   ]
  },
  {
   "cell_type": "code",
   "execution_count": 10,
   "metadata": {},
   "outputs": [
    {
     "name": "stdout",
     "output_type": "stream",
     "text": [
      "Choose your sorting options: \n",
      "1. Sort a coloumn by ascending order.\n",
      "2. Sort a coloumn by descending order.\n",
      "3. Sort by multiple coloumns.\n",
      "Choose: 1\n",
      "Choose the field: \n",
      "Field: Salary\n",
      "Values were sorted by salary in ascending order and written to a csv file. Open and check manually.\n"
     ]
    }
   ],
   "source": [
    "b=pd.read_csv('recs.csv')\n",
    "print('Choose your sorting options: ')\n",
    "print('1. Sort a coloumn by ascending order.')\n",
    "print('2. Sort a coloumn by descending order.')\n",
    "print('3. Sort by multiple coloumns.')\n",
    " \n",
    "a=int(input('Choose: '))\n",
    "if a==1:\n",
    "    print('Choose the field: ')\n",
    "    f=(input('Field: '))\n",
    "    if f=='Age':\n",
    "        srt_asc_age=b.sort_values('Age')\n",
    "        srt_asc_age.to_csv('asc_age.csv',encoding='utf-8',index=False)\n",
    "        print('Values were sorted by age in ascending order and written to a csv file. Open and check manually.')\n",
    "        \n",
    "    elif f=='Salary':\n",
    "        srt_asc_sal=b.sort_values('Salary')\n",
    "        srt_asc_sal.to_csv('asc_sal.csv',encoding='utf-8',index=False)\n",
    "        print('Values were sorted by salary in ascending order and written to a csv file. Open and check manually.')\n",
    "\n",
    "    elif f=='Country':\n",
    "        srt_asc_cntry=b.sort_values('Country')\n",
    "        srt_asc_cntry.to_csv('asc_cnt.csv',encoding='utf-8',index=False)\n",
    "        print('Values were sorted by country in ascending order and written to a csv file. Open and check manually.')\n",
    "    \n",
    "    else:\n",
    "        print('Invalid option.')\n",
    "        \n",
    "\n",
    "elif a==2:\n",
    "    f=input('Choose a field: \\n')\n",
    "    if f=='Age':\n",
    "        srt_age_desc=b.sort_values('Age',ascending=False)\n",
    "        srt_age_desc.to_csv('age_desc.csv',encoding='utf-8',index=False)\n",
    "        print('Values were sorted by age in descending order and written to a csv file. Open and check manually.')\n",
    "    elif f=='Salary':\n",
    "        srt_sal_desc=b.sort_values('Salary',ascending=False)\n",
    "        srt_sal_desc.to_csv('sal_desc.csv',encoding='utf-8',index=False)\n",
    "        print('Values were sorted by salary in descending order and written to a csv file. Open and check manually.')\n",
    "    \n",
    "    elif f=='Country':\n",
    "        srt_desc_cntry=b.sort_values('Country',ascending=False)\n",
    "        srt_desc_cntry.to_csv('cnt_desc.csv',encoding='utf-8',index=False)\n",
    "        print('Values sorted by country and written to a csv file.Open and check manually')\n",
    "    \n",
    "    else:\n",
    "        print('Invalid option.')\n",
    "\n",
    "elif a==3:\n",
    "    srt_mult=b.sort_values(['Age','Salary','Country'])\n",
    "    srt_mult.to_csv('mult_sort.csv',encoding='utf-8',index=False)\n",
    "    print('Values were sorted by multiple coloumns and written to a csv file. Open and check manually')\n",
    "\n",
    "\n",
    "else:\n",
    "    print('Invalid option,try again.')\n",
    "    \n",
    "    \n",
    "\n",
    "    \n",
    "        \n",
    "    "
   ]
  }
 ],
 "metadata": {
  "kernelspec": {
   "display_name": "Python 3",
   "language": "python",
   "name": "python3"
  },
  "language_info": {
   "codemirror_mode": {
    "name": "ipython",
    "version": 3
   },
   "file_extension": ".py",
   "mimetype": "text/x-python",
   "name": "python",
   "nbconvert_exporter": "python",
   "pygments_lexer": "ipython3",
   "version": "3.6.1"
  }
 },
 "nbformat": 4,
 "nbformat_minor": 2
}
