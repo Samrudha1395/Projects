{
 "cells": [
  {
   "cell_type": "code",
   "execution_count": 8,
   "metadata": {
    "collapsed": true
   },
   "outputs": [],
   "source": [
    "from abc import ABC, abstractmethod\n",
    " \n",
    " \n",
    "class Employee(ABC):\n",
    " \n",
    "    def __init__(self, hourly_emp_sal=1.5,salaried_emp_sal=2.5,manager_sal=4.5,executive_sal=8,base_sal=10000,emp_list = [],name ='',rank = '',sal1=0,name1='',sal = 0):\n",
    "        self.hourly_emp_sal =  hourly_emp_sal\n",
    "        self.salaried_emp_sal= salaried_emp_sal\n",
    "        self.manager_sal = manager_sal\n",
    "        self.executive_sal = executive_sal\n",
    "        self.base_sal = base_sal\n",
    "        self.emp_list = emp_list\n",
    "        self.name  = ''\n",
    "        self.rank = rank\n",
    "        self.sal1 = 0\n",
    "        self.name1  =''\n",
    "        self.sal2 = 0\n",
    "        \n",
    "        super(Employee, self).__init__()\n",
    "        \n",
    "    @abstractmethod\n",
    "    def execute(self):\n",
    "        pass\n",
    "\n",
    "class HourlyEmployee(Employee):\n",
    "    def execute(self):\n",
    "        pass #return self.operand_a + self.operand_b\n",
    " \n",
    " \n",
    "class SalariedEmployee(Employee):\n",
    "    def execute(self):\n",
    "        pass #return self.operand_a - self.operand_b\n",
    " \n",
    " \n",
    "class Manager(Employee):\n",
    "    def execute(self):\n",
    "        pass #return self.operand_a * self.operand_b\n",
    " \n",
    " \n",
    "class Executive(Employee):\n",
    "    def execute(self):\n",
    "        pass #return self.operand_a / self.operand_b\n",
    "\n",
    "class Company(Employee):\n",
    "        def execute(self):\n",
    "            pass\n",
    "        \n",
    "    \n",
    "        def hire(self,name,rank,sal2=1):\n",
    "                if (name,rank,sal2) not in self.emp_list:\n",
    "                    if  rank=='Hourly Employee':\n",
    "                        sal2 = self.hourly_emp_sal*self.base_sal\n",
    "                        self.emp_list.append((self,name,rank,sal2))\n",
    "                        print(f'{name} hired for the position {rank} with a salary of ${sal2}')\n",
    "                    elif rank == 'Salaried Employee':\n",
    "                        sal2 = self.salaried_emp_sal*self.base_sal\n",
    "                        self.emp_list.append((self,name,rank,sal2))\n",
    "                        print(f'{name} hired for the position {rank} with a salary of ${sal2}')\n",
    "                    elif rank=='Manager':\n",
    "                        sal2=self.manager_sal*self.base_sal\n",
    "                        self.emp_list.append((self,name,rank,sal2))\n",
    "                        print(f'{name} hired for the position {rank} with a salary of ${sal2}')\n",
    "                    elif  rank=='Executive':\n",
    "                        sal2=self.executive_sal*self.base_sal\n",
    "                        self.emp_list.append((self,name,rank,sal2))\n",
    "                        print(f'{name} hired for the position {rank} with a salary of ${sal2}')\n",
    "                    else:\n",
    "                        print('Invalid entry.')\n",
    "                \n",
    "                \n",
    "                \n",
    "                else:\n",
    "                    print('Employee already exists.')\n",
    "        def fire(self,name,rank,sal2):\n",
    "                if (self,name,rank,sal2) in self.emp_list:\n",
    "                    self.emp_list.remove((self,name,rank,sal2))\n",
    "                    print(f'Employee {name} removed.')\n",
    "                else:\n",
    "                    print('Incorrect employee name.')\n",
    "\n",
    "        def view(self):\n",
    "               print(self.emp_list)\n",
    "\n",
    "        def promote(self,name,rank,sal2):\n",
    "                name2=name\n",
    "                if (self,name,rank,sal2) in self.emp_list:\n",
    "                    if rank=='Hourly Employee':\n",
    "                        new_rank='Salaried Employee'\n",
    "                        print(f'{name2} was promoted to {new_rank}.')\n",
    "                        new_sal=self.salaried_emp_sal*self.base_sal\n",
    "                        self.emp_list.append((self,name2,new_rank,new_sal))\n",
    "                        self.emp_list.remove((self,name,rank,sal2))\n",
    "                    elif rank=='Salaried Employee':\n",
    "                        new_rank='Manager'\n",
    "                        print(f'{name2} was promoted to {new_rank}.')\n",
    "                        new_sal=self.manager_sal*self.base_sal\n",
    "                        self.emp_list.append((self,name2,new_rank,new_sal))\n",
    "                        self.emp_list.remove((self,name,rank,sal2))\n",
    "                    elif rank=='Manager':\n",
    "                        new_rank='Executive'\n",
    "                        print(f'{name2} was promoted to {new_rank}.')\n",
    "                        new_sal=self.executive_sal*self.base_sal\n",
    "                        self.emp_list.append((self,name2,new_rank,new_sal))\n",
    "                        self.emp_list.remove((self,name,rank,sal2))\n",
    "                    else:\n",
    "                        print('No promotions available after Executive.')\n",
    "                else:\n",
    "                    print('Employee not found.')"
   ]
  },
  {
   "cell_type": "code",
   "execution_count": 9,
   "metadata": {
    "collapsed": true
   },
   "outputs": [],
   "source": [
    "a=Company()"
   ]
  },
  {
   "cell_type": "code",
   "execution_count": 10,
   "metadata": {},
   "outputs": [
    {
     "name": "stdout",
     "output_type": "stream",
     "text": [
      "Vivek hired for the position Hourly Employee with a salary of $15000.0\n"
     ]
    }
   ],
   "source": [
    "a.hire('Vivek','Hourly Employee')"
   ]
  },
  {
   "cell_type": "code",
   "execution_count": 11,
   "metadata": {},
   "outputs": [
    {
     "name": "stdout",
     "output_type": "stream",
     "text": [
      "Rajesh hired for the position Salaried Employee with a salary of $25000.0\n"
     ]
    }
   ],
   "source": [
    "a.hire('Rajesh','Salaried Employee')"
   ]
  },
  {
   "cell_type": "code",
   "execution_count": 12,
   "metadata": {},
   "outputs": [
    {
     "name": "stdout",
     "output_type": "stream",
     "text": [
      "Shilpa hired for the position Manager with a salary of $45000.0\n"
     ]
    }
   ],
   "source": [
    "a.hire('Shilpa','Manager')"
   ]
  },
  {
   "cell_type": "code",
   "execution_count": 13,
   "metadata": {},
   "outputs": [
    {
     "name": "stdout",
     "output_type": "stream",
     "text": [
      "Priyanka hired for the position Executive with a salary of $80000\n"
     ]
    }
   ],
   "source": [
    "a.hire('Priyanka','Executive')"
   ]
  },
  {
   "cell_type": "code",
   "execution_count": 14,
   "metadata": {},
   "outputs": [
    {
     "name": "stdout",
     "output_type": "stream",
     "text": [
      "[(<__main__.Company object at 0x000001C7865A3DD8>, 'Vivek', 'Hourly Employee', 15000.0), (<__main__.Company object at 0x000001C7865A3DD8>, 'Rajesh', 'Salaried Employee', 25000.0), (<__main__.Company object at 0x000001C7865A3DD8>, 'Shilpa', 'Manager', 45000.0), (<__main__.Company object at 0x000001C7865A3DD8>, 'Priyanka', 'Executive', 80000)]\n"
     ]
    }
   ],
   "source": [
    "a.view()"
   ]
  },
  {
   "cell_type": "code",
   "execution_count": 15,
   "metadata": {},
   "outputs": [
    {
     "name": "stdout",
     "output_type": "stream",
     "text": [
      "Shilpa was promoted to Executive.\n"
     ]
    }
   ],
   "source": [
    "a.promote('Shilpa','Manager',45000)"
   ]
  },
  {
   "cell_type": "code",
   "execution_count": 16,
   "metadata": {},
   "outputs": [
    {
     "name": "stdout",
     "output_type": "stream",
     "text": [
      "[(<__main__.Company object at 0x000001C7865A3DD8>, 'Vivek', 'Hourly Employee', 15000.0), (<__main__.Company object at 0x000001C7865A3DD8>, 'Rajesh', 'Salaried Employee', 25000.0), (<__main__.Company object at 0x000001C7865A3DD8>, 'Priyanka', 'Executive', 80000), (<__main__.Company object at 0x000001C7865A3DD8>, 'Shilpa', 'Executive', 80000)]\n"
     ]
    }
   ],
   "source": [
    "a.view()"
   ]
  },
  {
   "cell_type": "code",
   "execution_count": 17,
   "metadata": {},
   "outputs": [
    {
     "name": "stdout",
     "output_type": "stream",
     "text": [
      "Employee Priyanka removed.\n"
     ]
    }
   ],
   "source": [
    "a.fire('Priyanka','Executive',80000)"
   ]
  },
  {
   "cell_type": "code",
   "execution_count": 18,
   "metadata": {},
   "outputs": [
    {
     "name": "stdout",
     "output_type": "stream",
     "text": [
      "[(<__main__.Company object at 0x000001C7865A3DD8>, 'Vivek', 'Hourly Employee', 15000.0), (<__main__.Company object at 0x000001C7865A3DD8>, 'Rajesh', 'Salaried Employee', 25000.0), (<__main__.Company object at 0x000001C7865A3DD8>, 'Shilpa', 'Executive', 80000)]\n"
     ]
    }
   ],
   "source": [
    "a.view()"
   ]
  },
  {
   "cell_type": "code",
   "execution_count": 19,
   "metadata": {},
   "outputs": [
    {
     "name": "stdout",
     "output_type": "stream",
     "text": [
      "Invalid entry.\n"
     ]
    }
   ],
   "source": [
    "a.hire('xyz','xyz')"
   ]
  },
  {
   "cell_type": "code",
   "execution_count": 20,
   "metadata": {},
   "outputs": [
    {
     "name": "stdout",
     "output_type": "stream",
     "text": [
      "Employee not found.\n"
     ]
    }
   ],
   "source": [
    "a.promote('xyz','xyz',123)"
   ]
  },
  {
   "cell_type": "code",
   "execution_count": 21,
   "metadata": {},
   "outputs": [
    {
     "name": "stdout",
     "output_type": "stream",
     "text": [
      "Incorrect employee name.\n"
     ]
    }
   ],
   "source": [
    "a.fire('xyz','xyz',123)"
   ]
  },
  {
   "cell_type": "code",
   "execution_count": 22,
   "metadata": {},
   "outputs": [
    {
     "name": "stdout",
     "output_type": "stream",
     "text": [
      "No promotions available after Executive.\n"
     ]
    }
   ],
   "source": [
    "a.promote('Shilpa','Executive',80000)"
   ]
  }
 ],
 "metadata": {
  "kernelspec": {
   "display_name": "Python 3",
   "language": "python",
   "name": "python3"
  },
  "language_info": {
   "codemirror_mode": {
    "name": "ipython",
    "version": 3
   },
   "file_extension": ".py",
   "mimetype": "text/x-python",
   "name": "python",
   "nbconvert_exporter": "python",
   "pygments_lexer": "ipython3",
   "version": "3.6.1"
  }
 },
 "nbformat": 4,
 "nbformat_minor": 2
}
